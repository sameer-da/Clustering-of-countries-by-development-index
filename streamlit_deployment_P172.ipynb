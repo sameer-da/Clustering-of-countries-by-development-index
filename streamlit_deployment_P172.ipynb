{
 "cells": [
  {
   "cell_type": "code",
   "execution_count": 3,
   "id": "a0fd55c4",
   "metadata": {},
   "outputs": [
    {
     "name": "stdout",
     "output_type": "stream",
     "text": [
      "Requirement already satisfied: streamlit in c:\\users\\worka\\anaconda3\\lib\\site-packages (1.12.0)\n",
      "Requirement already satisfied: tornado>=5.0 in c:\\users\\worka\\anaconda3\\lib\\site-packages (from streamlit) (6.1)\n",
      "Requirement already satisfied: packaging>=14.1 in c:\\users\\worka\\anaconda3\\lib\\site-packages (from streamlit) (21.0)\n",
      "Requirement already satisfied: tzlocal>=1.1 in c:\\users\\worka\\anaconda3\\lib\\site-packages (from streamlit) (4.2)\n",
      "Requirement already satisfied: rich>=10.11.0 in c:\\users\\worka\\anaconda3\\lib\\site-packages (from streamlit) (12.6.0)\n",
      "Requirement already satisfied: pyarrow>=4.0 in c:\\users\\worka\\anaconda3\\lib\\site-packages (from streamlit) (10.0.1)\n",
      "Requirement already satisfied: altair>=3.2.0 in c:\\users\\worka\\anaconda3\\lib\\site-packages (from streamlit) (4.2.0)\n",
      "Requirement already satisfied: watchdog in c:\\users\\worka\\anaconda3\\lib\\site-packages (from streamlit) (2.1.3)\n",
      "Requirement already satisfied: protobuf<4,>=3.12 in c:\\users\\worka\\anaconda3\\lib\\site-packages (from streamlit) (3.19.6)\n",
      "Requirement already satisfied: pydeck>=0.1.dev5 in c:\\users\\worka\\anaconda3\\lib\\site-packages (from streamlit) (0.8.0)\n",
      "Requirement already satisfied: gitpython!=3.1.19 in c:\\users\\worka\\anaconda3\\lib\\site-packages (from streamlit) (3.1.29)\n",
      "Requirement already satisfied: validators>=0.2 in c:\\users\\worka\\anaconda3\\lib\\site-packages (from streamlit) (0.20.0)\n",
      "Requirement already satisfied: requests>=2.4 in c:\\users\\worka\\anaconda3\\lib\\site-packages (from streamlit) (2.26.0)\n",
      "Requirement already satisfied: toml in c:\\users\\worka\\anaconda3\\lib\\site-packages (from streamlit) (0.10.2)\n",
      "Requirement already satisfied: cachetools>=4.0 in c:\\users\\worka\\anaconda3\\lib\\site-packages (from streamlit) (5.2.0)\n",
      "Requirement already satisfied: python-dateutil in c:\\users\\worka\\anaconda3\\lib\\site-packages (from streamlit) (2.8.2)\n",
      "Requirement already satisfied: click>=7.0 in c:\\users\\worka\\anaconda3\\lib\\site-packages (from streamlit) (8.0.3)\n",
      "Requirement already satisfied: pympler>=0.9 in c:\\users\\worka\\anaconda3\\lib\\site-packages (from streamlit) (1.0.1)\n",
      "Requirement already satisfied: semver in c:\\users\\worka\\anaconda3\\lib\\site-packages (from streamlit) (2.13.0)\n",
      "Requirement already satisfied: importlib-metadata>=1.4 in c:\\users\\worka\\anaconda3\\lib\\site-packages (from streamlit) (4.8.1)\n",
      "Requirement already satisfied: typing-extensions>=3.10.0.0 in c:\\users\\worka\\anaconda3\\lib\\site-packages (from streamlit) (3.10.0.2)\n",
      "Requirement already satisfied: blinker>=1.0.0 in c:\\users\\worka\\anaconda3\\lib\\site-packages (from streamlit) (1.5)\n",
      "Requirement already satisfied: pillow>=6.2.0 in c:\\users\\worka\\anaconda3\\lib\\site-packages (from streamlit) (8.4.0)\n",
      "Requirement already satisfied: numpy in c:\\users\\worka\\anaconda3\\lib\\site-packages (from streamlit) (1.22.0)\n",
      "Requirement already satisfied: pandas>=0.21.0 in c:\\users\\worka\\anaconda3\\lib\\site-packages (from streamlit) (1.3.4)\n",
      "Requirement already satisfied: jsonschema>=3.0 in c:\\users\\worka\\anaconda3\\lib\\site-packages (from altair>=3.2.0->streamlit) (3.2.0)\n",
      "Requirement already satisfied: toolz in c:\\users\\worka\\anaconda3\\lib\\site-packages (from altair>=3.2.0->streamlit) (0.11.1)\n",
      "Requirement already satisfied: jinja2 in c:\\users\\worka\\anaconda3\\lib\\site-packages (from altair>=3.2.0->streamlit) (2.11.3)\n",
      "Requirement already satisfied: entrypoints in c:\\users\\worka\\anaconda3\\lib\\site-packages (from altair>=3.2.0->streamlit) (0.3)\n",
      "Requirement already satisfied: colorama in c:\\users\\worka\\anaconda3\\lib\\site-packages (from click>=7.0->streamlit) (0.4.4)\n",
      "Requirement already satisfied: gitdb<5,>=4.0.1 in c:\\users\\worka\\anaconda3\\lib\\site-packages (from gitpython!=3.1.19->streamlit) (4.0.10)\n",
      "Requirement already satisfied: smmap<6,>=3.0.1 in c:\\users\\worka\\anaconda3\\lib\\site-packages (from gitdb<5,>=4.0.1->gitpython!=3.1.19->streamlit) (5.0.0)\n",
      "Requirement already satisfied: zipp>=0.5 in c:\\users\\worka\\anaconda3\\lib\\site-packages (from importlib-metadata>=1.4->streamlit) (3.6.0)\n",
      "Requirement already satisfied: setuptools in c:\\users\\worka\\anaconda3\\lib\\site-packages (from jsonschema>=3.0->altair>=3.2.0->streamlit) (58.0.4)\n",
      "Requirement already satisfied: pyrsistent>=0.14.0 in c:\\users\\worka\\anaconda3\\lib\\site-packages (from jsonschema>=3.0->altair>=3.2.0->streamlit) (0.18.0)\n",
      "Requirement already satisfied: attrs>=17.4.0 in c:\\users\\worka\\anaconda3\\lib\\site-packages (from jsonschema>=3.0->altair>=3.2.0->streamlit) (21.2.0)\n",
      "Requirement already satisfied: six>=1.11.0 in c:\\users\\worka\\anaconda3\\lib\\site-packages (from jsonschema>=3.0->altair>=3.2.0->streamlit) (1.16.0)\n",
      "Requirement already satisfied: pyparsing>=2.0.2 in c:\\users\\worka\\anaconda3\\lib\\site-packages (from packaging>=14.1->streamlit) (3.0.4)\n",
      "Requirement already satisfied: pytz>=2017.3 in c:\\users\\worka\\anaconda3\\lib\\site-packages (from pandas>=0.21.0->streamlit) (2021.3)\n",
      "Requirement already satisfied: MarkupSafe>=0.23 in c:\\users\\worka\\anaconda3\\lib\\site-packages (from jinja2->altair>=3.2.0->streamlit) (2.1.1)\n",
      "Requirement already satisfied: charset-normalizer~=2.0.0 in c:\\users\\worka\\anaconda3\\lib\\site-packages (from requests>=2.4->streamlit) (2.0.4)\n",
      "Requirement already satisfied: idna<4,>=2.5 in c:\\users\\worka\\anaconda3\\lib\\site-packages (from requests>=2.4->streamlit) (3.2)\n",
      "Requirement already satisfied: certifi>=2017.4.17 in c:\\users\\worka\\anaconda3\\lib\\site-packages (from requests>=2.4->streamlit) (2022.6.15)\n",
      "Requirement already satisfied: urllib3<1.27,>=1.21.1 in c:\\users\\worka\\anaconda3\\lib\\site-packages (from requests>=2.4->streamlit) (1.26.7)\n",
      "Requirement already satisfied: commonmark<0.10.0,>=0.9.0 in c:\\users\\worka\\anaconda3\\lib\\site-packages (from rich>=10.11.0->streamlit) (0.9.1)\n",
      "Requirement already satisfied: pygments<3.0.0,>=2.6.0 in c:\\users\\worka\\anaconda3\\lib\\site-packages (from rich>=10.11.0->streamlit) (2.10.0)\n",
      "Requirement already satisfied: pytz-deprecation-shim in c:\\users\\worka\\anaconda3\\lib\\site-packages (from tzlocal>=1.1->streamlit) (0.1.0.post0)\n",
      "Requirement already satisfied: tzdata in c:\\users\\worka\\anaconda3\\lib\\site-packages (from tzlocal>=1.1->streamlit) (2022.7)\n",
      "Requirement already satisfied: decorator>=3.4.0 in c:\\users\\worka\\anaconda3\\lib\\site-packages (from validators>=0.2->streamlit) (5.1.0)\n",
      "Note: you may need to restart the kernel to use updated packages.\n"
     ]
    }
   ],
   "source": [
    "pip install streamlit"
   ]
  },
  {
   "cell_type": "code",
   "execution_count": 5,
   "id": "fd10167f",
   "metadata": {},
   "outputs": [],
   "source": [
    "import streamlit as st\n",
    "import pickle\n",
    "import pandas as pd\n",
    "import numpy as np\n",
    "import os\n",
    "import sklearn"
   ]
  },
  {
   "cell_type": "code",
   "execution_count": 7,
   "id": "7189839e",
   "metadata": {},
   "outputs": [],
   "source": [
    "model_file_name=\"Project - Clustering (1).pkl\"\n",
    "with open(model_file_name,'rb') as f:\n",
    "    mod_LR=pickle.load(f)"
   ]
  },
  {
   "cell_type": "code",
   "execution_count": 8,
   "id": "17ca8d5d",
   "metadata": {},
   "outputs": [],
   "source": [
    "upload_markdown = \"\"\"Upload CSV Input Data File.\"\"\"\n",
    "run_markdown=\"\"\"Run the Latest Model using the inputs\"\"\""
   ]
  },
  {
   "cell_type": "code",
   "execution_count": 9,
   "id": "2e21d538",
   "metadata": {},
   "outputs": [
    {
     "name": "stderr",
     "output_type": "stream",
     "text": [
      "2022-12-24 20:17:54.469 \n",
      "  \u001b[33m\u001b[1mWarning:\u001b[0m to view this Streamlit app on a browser, run it with the following\n",
      "  command:\n",
      "\n",
      "    streamlit run C:\\Users\\worka\\anaconda3\\lib\\site-packages\\ipykernel_launcher.py [ARGUMENTS]\n"
     ]
    }
   ],
   "source": [
    "with st.container():\n",
    "    st.title(\"Clustering Model Serving Web App\")\n",
    "    st.caption(\"Get Predictions from the latest model.\")"
   ]
  },
  {
   "cell_type": "code",
   "execution_count": 10,
   "id": "9f43ba1d",
   "metadata": {},
   "outputs": [],
   "source": [
    "st.markdown(\"---\")\n",
    "\n",
    "with st.container():\n",
    "    \n",
    "    upload_title=st.subheader('Upload Input Data File')\n",
    "    upload_describe=st.caption(upload_markdown)\n",
    "    \n",
    "    \n",
    "    input_file=st.file_uploader(\"Upload Excel Workbook\")\n",
    "    if input_file is not None:\n",
    "        with open(input_file.name, mode='wb') as f:\n",
    "            f.write(input_file.getbuffer())"
   ]
  },
  {
   "cell_type": "code",
   "execution_count": 11,
   "id": "5e8032f9",
   "metadata": {},
   "outputs": [],
   "source": [
    "st.markdown(\"---\")\n",
    "\n",
    "run_title=st.subheader(\"Run The Model\")\n",
    "run_describe=st.caption(run_markdown)\n",
    "\n",
    "\n",
    "\n",
    "if input_file:\n",
    "    run_requested=st.button(\"Make Predictions\")\n",
    "    \n",
    "    if run_requested:\n",
    "        st.info(\"Loading the new data for predictions.\")\n",
    "        \n",
    "        \n",
    "        data1=pd.read_csv(input_file.name)\n",
    "        \n",
    "        \n",
    "        st.write(data1)\n",
    "        \n",
    "        st.info(\"Data Loaded. Staring Predictions.\")\n",
    "\n",
    "        \n",
    "        \n",
    "        data=data1.iloc[:,:-1].copy()\n",
    "\n",
    "        y_kmeans = mod_LR.fit_predict(data)\n",
    "        cluster = list(y_kmeans)\n",
    "        data['cluster'] = cluster\n",
    "        \n",
    "        \n",
    "        st.info(\"Predictions Complete\")\n",
    "        \n",
    "        \n",
    "        st.subheader(\"Predicted Result Of The Dataset\")\n",
    "        st.write(\"Cluster \",y_kmeans)\n"
   ]
  },
  {
   "cell_type": "code",
   "execution_count": null,
   "id": "7b9ddb7c",
   "metadata": {},
   "outputs": [],
   "source": []
  },
  {
   "cell_type": "code",
   "execution_count": null,
   "id": "3a24e05d",
   "metadata": {},
   "outputs": [],
   "source": []
  },
  {
   "cell_type": "code",
   "execution_count": null,
   "id": "ed730114",
   "metadata": {},
   "outputs": [],
   "source": []
  },
  {
   "cell_type": "code",
   "execution_count": null,
   "id": "8ea2d8e1",
   "metadata": {},
   "outputs": [],
   "source": []
  },
  {
   "cell_type": "code",
   "execution_count": null,
   "id": "dbad9bc9",
   "metadata": {},
   "outputs": [],
   "source": []
  },
  {
   "cell_type": "code",
   "execution_count": null,
   "id": "f0faabd1",
   "metadata": {},
   "outputs": [],
   "source": []
  },
  {
   "cell_type": "code",
   "execution_count": null,
   "id": "99c893d7",
   "metadata": {},
   "outputs": [],
   "source": []
  }
 ],
 "metadata": {
  "kernelspec": {
   "display_name": "Python 3 (ipykernel)",
   "language": "python",
   "name": "python3"
  },
  "language_info": {
   "codemirror_mode": {
    "name": "ipython",
    "version": 3
   },
   "file_extension": ".py",
   "mimetype": "text/x-python",
   "name": "python",
   "nbconvert_exporter": "python",
   "pygments_lexer": "ipython3",
   "version": "3.9.7"
  }
 },
 "nbformat": 4,
 "nbformat_minor": 5
}
